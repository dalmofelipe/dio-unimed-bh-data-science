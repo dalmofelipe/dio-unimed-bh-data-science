{
 "cells": [
  {
   "cell_type": "markdown",
   "id": "0857c8c7",
   "metadata": {},
   "source": [
    "### LISTAS"
   ]
  },
  {
   "cell_type": "code",
   "execution_count": null,
   "id": "74cb81c6",
   "metadata": {},
   "outputs": [],
   "source": [
    "animais = ['gato', 'papagaio', 1, 3.2]"
   ]
  },
  {
   "cell_type": "code",
   "execution_count": null,
   "id": "02a9a23d",
   "metadata": {},
   "outputs": [],
   "source": [
    "animais.remove('gato')"
   ]
  },
  {
   "cell_type": "code",
   "execution_count": null,
   "id": "05a6ff42",
   "metadata": {},
   "outputs": [],
   "source": [
    "animais"
   ]
  },
  {
   "cell_type": "code",
   "execution_count": null,
   "id": "68c3f5f8",
   "metadata": {},
   "outputs": [],
   "source": [
    "1 in animais"
   ]
  },
  {
   "cell_type": "code",
   "execution_count": null,
   "id": "24de70af",
   "metadata": {},
   "outputs": [],
   "source": [
    "animais.extend(['leão', 2])"
   ]
  },
  {
   "cell_type": "code",
   "execution_count": null,
   "id": "139f15c8",
   "metadata": {},
   "outputs": [],
   "source": [
    "animais"
   ]
  },
  {
   "cell_type": "code",
   "execution_count": null,
   "id": "d7cec909",
   "metadata": {},
   "outputs": [],
   "source": [
    "animais.append(['ops', 'deu ruim'])"
   ]
  },
  {
   "cell_type": "code",
   "execution_count": null,
   "id": "4094a749",
   "metadata": {},
   "outputs": [],
   "source": [
    "animais"
   ]
  },
  {
   "cell_type": "code",
   "execution_count": null,
   "id": "44d934fc",
   "metadata": {},
   "outputs": [],
   "source": [
    "notas = [44,67,10,12,34,9]"
   ]
  },
  {
   "cell_type": "code",
   "execution_count": null,
   "id": "6dae2661",
   "metadata": {},
   "outputs": [],
   "source": [
    "max(notas)"
   ]
  },
  {
   "cell_type": "code",
   "execution_count": null,
   "id": "940f3752",
   "metadata": {},
   "outputs": [],
   "source": [
    "min(notas)"
   ]
  },
  {
   "cell_type": "code",
   "execution_count": null,
   "id": "36d186a3",
   "metadata": {},
   "outputs": [],
   "source": [
    "notas.append(55)"
   ]
  },
  {
   "cell_type": "code",
   "execution_count": null,
   "id": "5c5b80a5",
   "metadata": {},
   "outputs": [],
   "source": [
    "notas"
   ]
  },
  {
   "cell_type": "code",
   "execution_count": null,
   "id": "10f384d3",
   "metadata": {},
   "outputs": [],
   "source": [
    "notas.sort()"
   ]
  },
  {
   "cell_type": "code",
   "execution_count": null,
   "id": "682bce9f",
   "metadata": {},
   "outputs": [],
   "source": [
    "notas"
   ]
  },
  {
   "cell_type": "markdown",
   "id": "81998637",
   "metadata": {},
   "source": [
    "### TUPLAS"
   ]
  },
  {
   "cell_type": "code",
   "execution_count": null,
   "id": "38bbd13d",
   "metadata": {},
   "outputs": [],
   "source": [
    "tp = ('banana', 'maçã', 10, 50)"
   ]
  },
  {
   "cell_type": "code",
   "execution_count": null,
   "id": "814d487c",
   "metadata": {},
   "outputs": [],
   "source": [
    "tp[0]"
   ]
  },
  {
   "cell_type": "code",
   "execution_count": null,
   "id": "bb934997",
   "metadata": {},
   "outputs": [],
   "source": [
    "tp[0] = 'uva'"
   ]
  },
  {
   "cell_type": "code",
   "execution_count": null,
   "id": "fe119bab",
   "metadata": {},
   "outputs": [],
   "source": [
    "'maçã' in tp"
   ]
  },
  {
   "cell_type": "code",
   "execution_count": null,
   "id": "96f89dcd",
   "metadata": {},
   "outputs": [],
   "source": [
    "tp[:2]"
   ]
  },
  {
   "cell_type": "markdown",
   "id": "92167610",
   "metadata": {},
   "source": [
    "   ### DICIONÁRIOS"
   ]
  },
  {
   "cell_type": "code",
   "execution_count": null,
   "id": "f2a2ca34",
   "metadata": {},
   "outputs": [],
   "source": [
    "dc = {'maçã': 10,'uva': 20,'banana': 50,'ameixa': 2}"
   ]
  },
  {
   "cell_type": "code",
   "execution_count": null,
   "id": "6a80f5a7",
   "metadata": {},
   "outputs": [],
   "source": [
    "dc.keys()"
   ]
  },
  {
   "cell_type": "code",
   "execution_count": null,
   "id": "aedbe85b",
   "metadata": {},
   "outputs": [],
   "source": [
    "dc.values()"
   ]
  },
  {
   "cell_type": "code",
   "execution_count": null,
   "id": "ef7687c1",
   "metadata": {},
   "outputs": [],
   "source": [
    "dc.items()"
   ]
  },
  {
   "cell_type": "code",
   "execution_count": null,
   "id": "a5c7dbe0",
   "metadata": {},
   "outputs": [],
   "source": [
    "dc.setdefault('limão',22)"
   ]
  },
  {
   "cell_type": "code",
   "execution_count": null,
   "id": "fef263d6",
   "metadata": {},
   "outputs": [],
   "source": [
    "dc"
   ]
  },
  {
   "cell_type": "code",
   "execution_count": null,
   "id": "c5239bf4",
   "metadata": {},
   "outputs": [],
   "source": [
    "sorted(dc.items(), key=lambda x: x[1])"
   ]
  },
  {
   "cell_type": "code",
   "execution_count": null,
   "id": "5390a530",
   "metadata": {},
   "outputs": [],
   "source": [
    "sorted(dc.items(), key=lambda x: x[0])"
   ]
  }
 ],
 "metadata": {
  "kernelspec": {
   "display_name": "Python 3 (ipykernel)",
   "language": "python",
   "name": "python3"
  },
  "language_info": {
   "codemirror_mode": {
    "name": "ipython",
    "version": 3
   },
   "file_extension": ".py",
   "mimetype": "text/x-python",
   "name": "python",
   "nbconvert_exporter": "python",
   "pygments_lexer": "ipython3",
   "version": "3.10.6"
  }
 },
 "nbformat": 4,
 "nbformat_minor": 5
}
