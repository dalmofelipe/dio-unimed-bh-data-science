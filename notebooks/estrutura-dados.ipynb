{
 "cells": [
  {
   "cell_type": "markdown",
   "id": "957f7276",
   "metadata": {},
   "source": [
    "### LISTAS"
   ]
  },
  {
   "cell_type": "code",
   "execution_count": null,
   "id": "cea50746",
   "metadata": {},
   "outputs": [],
   "source": [
    "animais = ['gato', 'papagaio', 1, 3.2]"
   ]
  },
  {
   "cell_type": "code",
   "execution_count": null,
   "id": "2d0304ff",
   "metadata": {},
   "outputs": [],
   "source": [
    "animais.remove('gato')"
   ]
  },
  {
   "cell_type": "code",
   "execution_count": null,
   "id": "66a47059",
   "metadata": {},
   "outputs": [],
   "source": [
    "animais"
   ]
  },
  {
   "cell_type": "code",
   "execution_count": null,
   "id": "ea050636",
   "metadata": {},
   "outputs": [],
   "source": [
    "1 in animais"
   ]
  },
  {
   "cell_type": "code",
   "execution_count": null,
   "id": "92e145f8",
   "metadata": {},
   "outputs": [],
   "source": [
    "animais.extend(['leão', 2])"
   ]
  },
  {
   "cell_type": "code",
   "execution_count": null,
   "id": "f4a7a25b",
   "metadata": {},
   "outputs": [],
   "source": [
    "animais"
   ]
  },
  {
   "cell_type": "code",
   "execution_count": null,
   "id": "b6fd6434",
   "metadata": {},
   "outputs": [],
   "source": [
    "animais.append(['ops', 'deu ruim'])"
   ]
  },
  {
   "cell_type": "code",
   "execution_count": null,
   "id": "390f3a2d",
   "metadata": {},
   "outputs": [],
   "source": [
    "animais"
   ]
  },
  {
   "cell_type": "code",
   "execution_count": null,
   "id": "44414072",
   "metadata": {},
   "outputs": [],
   "source": [
    "notas = [44,67,10,12,34,9]"
   ]
  },
  {
   "cell_type": "code",
   "execution_count": null,
   "id": "9663b252",
   "metadata": {},
   "outputs": [],
   "source": [
    "max(notas)"
   ]
  },
  {
   "cell_type": "code",
   "execution_count": null,
   "id": "bd5b549d",
   "metadata": {},
   "outputs": [],
   "source": [
    "min(notas)"
   ]
  },
  {
   "cell_type": "code",
   "execution_count": null,
   "id": "5f536a56",
   "metadata": {},
   "outputs": [],
   "source": [
    "notas.append(55)"
   ]
  },
  {
   "cell_type": "code",
   "execution_count": null,
   "id": "1bce0801",
   "metadata": {},
   "outputs": [],
   "source": [
    "notas"
   ]
  },
  {
   "cell_type": "code",
   "execution_count": null,
   "id": "f2292b55",
   "metadata": {},
   "outputs": [],
   "source": [
    "notas.sort()"
   ]
  },
  {
   "cell_type": "code",
   "execution_count": null,
   "id": "bec0e0d4",
   "metadata": {},
   "outputs": [],
   "source": [
    "notas"
   ]
  },
  {
   "cell_type": "markdown",
   "id": "1aa936b6",
   "metadata": {},
   "source": [
    "### TUPLAS"
   ]
  },
  {
   "cell_type": "code",
   "execution_count": null,
   "id": "ee8b3092",
   "metadata": {},
   "outputs": [],
   "source": [
    "tp = ('banana', 'maçã', 10, 50)"
   ]
  },
  {
   "cell_type": "code",
   "execution_count": 18,
   "id": "b417f62a",
   "metadata": {},
   "outputs": [
    {
     "data": {
      "text/plain": [
       "'banana'"
      ]
     },
     "execution_count": 18,
     "metadata": {},
     "output_type": "execute_result"
    }
   ],
   "source": [
    "tp[0]"
   ]
  },
  {
   "cell_type": "code",
   "execution_count": 19,
   "id": "850fbebf",
   "metadata": {},
   "outputs": [
    {
     "ename": "TypeError",
     "evalue": "'tuple' object does not support item assignment",
     "output_type": "error",
     "traceback": [
      "\u001b[1;31m---------------------------------------------------------------------------\u001b[0m",
      "\u001b[1;31mTypeError\u001b[0m                                 Traceback (most recent call last)",
      "Cell \u001b[1;32mIn [19], line 1\u001b[0m\n\u001b[1;32m----> 1\u001b[0m \u001b[43mtp\u001b[49m\u001b[43m[\u001b[49m\u001b[38;5;241;43m0\u001b[39;49m\u001b[43m]\u001b[49m \u001b[38;5;241m=\u001b[39m \u001b[38;5;124m'\u001b[39m\u001b[38;5;124muva\u001b[39m\u001b[38;5;124m'\u001b[39m\n",
      "\u001b[1;31mTypeError\u001b[0m: 'tuple' object does not support item assignment"
     ]
    }
   ],
   "source": [
    "tp[0] = 'uva'"
   ]
  },
  {
   "cell_type": "code",
   "execution_count": 20,
   "id": "60004fc3",
   "metadata": {},
   "outputs": [
    {
     "data": {
      "text/plain": [
       "True"
      ]
     },
     "execution_count": 20,
     "metadata": {},
     "output_type": "execute_result"
    }
   ],
   "source": [
    "'maçã' in tp"
   ]
  },
  {
   "cell_type": "code",
   "execution_count": 21,
   "id": "629c13cd",
   "metadata": {},
   "outputs": [
    {
     "data": {
      "text/plain": [
       "('banana', 'maçã')"
      ]
     },
     "execution_count": 21,
     "metadata": {},
     "output_type": "execute_result"
    }
   ],
   "source": [
    "tp[:2]"
   ]
  },
  {
   "cell_type": "markdown",
   "id": "446fc6de",
   "metadata": {},
   "source": [
    "   ### DICIONÁRIOS"
   ]
  },
  {
   "cell_type": "code",
   "execution_count": 22,
   "id": "f2a2a21d",
   "metadata": {},
   "outputs": [],
   "source": [
    "dc = {'maçã': 10,'uva': 20,'banana': 50,'ameixa': 2}"
   ]
  },
  {
   "cell_type": "code",
   "execution_count": 23,
   "id": "e639289f",
   "metadata": {},
   "outputs": [
    {
     "data": {
      "text/plain": [
       "dict_keys(['maçã', 'uva', 'banana', 'ameixa'])"
      ]
     },
     "execution_count": 23,
     "metadata": {},
     "output_type": "execute_result"
    }
   ],
   "source": [
    "dc.keys()"
   ]
  },
  {
   "cell_type": "code",
   "execution_count": 24,
   "id": "c880e95f",
   "metadata": {},
   "outputs": [
    {
     "data": {
      "text/plain": [
       "dict_values([10, 20, 50, 2])"
      ]
     },
     "execution_count": 24,
     "metadata": {},
     "output_type": "execute_result"
    }
   ],
   "source": [
    "dc.values()"
   ]
  },
  {
   "cell_type": "code",
   "execution_count": 25,
   "id": "fc75b2ee",
   "metadata": {},
   "outputs": [
    {
     "data": {
      "text/plain": [
       "22"
      ]
     },
     "execution_count": 25,
     "metadata": {},
     "output_type": "execute_result"
    }
   ],
   "source": [
    "dc.setdefault('limão',22)"
   ]
  },
  {
   "cell_type": "code",
   "execution_count": 26,
   "id": "e744dc46",
   "metadata": {},
   "outputs": [
    {
     "data": {
      "text/plain": [
       "{'maçã': 10, 'uva': 20, 'banana': 50, 'ameixa': 2, 'limão': 22}"
      ]
     },
     "execution_count": 26,
     "metadata": {},
     "output_type": "execute_result"
    }
   ],
   "source": [
    "dc"
   ]
  },
  {
   "cell_type": "code",
   "execution_count": null,
   "id": "b31a613e",
   "metadata": {},
   "outputs": [],
   "source": []
  },
  {
   "cell_type": "code",
   "execution_count": null,
   "id": "20e903a6",
   "metadata": {},
   "outputs": [],
   "source": []
  }
 ],
 "metadata": {
  "kernelspec": {
   "display_name": "Python 3 (ipykernel)",
   "language": "python",
   "name": "python3"
  },
  "language_info": {
   "codemirror_mode": {
    "name": "ipython",
    "version": 3
   },
   "file_extension": ".py",
   "mimetype": "text/x-python",
   "name": "python",
   "nbconvert_exporter": "python",
   "pygments_lexer": "ipython3",
   "version": "3.10.6"
  }
 },
 "nbformat": 4,
 "nbformat_minor": 5
}
